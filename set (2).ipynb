{
 "cells": [
  {
   "cell_type": "code",
   "execution_count": 1,
   "id": "31b08f16",
   "metadata": {},
   "outputs": [
    {
     "ename": "NameError",
     "evalue": "name 'samle_set' is not defined",
     "output_type": "error",
     "traceback": [
      "\u001b[1;31m---------------------------------------------------------------------------\u001b[0m",
      "\u001b[1;31mNameError\u001b[0m                                 Traceback (most recent call last)",
      "Cell \u001b[1;32mIn[1], line 2\u001b[0m\n\u001b[0;32m      1\u001b[0m sample_set\u001b[38;5;241m=\u001b[39m{\u001b[38;5;241m1\u001b[39m,\u001b[38;5;241m13.6\u001b[39m,\u001b[38;5;124m\"\u001b[39m\u001b[38;5;124mhi\u001b[39m\u001b[38;5;124m\"\u001b[39m,\u001b[38;5;241m12\u001b[39m,\u001b[38;5;241m1\u001b[39m,\u001b[38;5;241m127\u001b[39m,\u001b[38;5;241m25\u001b[39m,\u001b[38;5;241m25\u001b[39m,\u001b[38;5;124m\"\u001b[39m\u001b[38;5;124mhello\u001b[39m\u001b[38;5;124m\"\u001b[39m,\u001b[38;5;124m\"\u001b[39m\u001b[38;5;124mking\u001b[39m\u001b[38;5;124m\"\u001b[39m,\u001b[38;5;124m\"\u001b[39m\u001b[38;5;124mball\u001b[39m\u001b[38;5;124m\"\u001b[39m}\n\u001b[1;32m----> 2\u001b[0m \u001b[43msamle_set\u001b[49m\n",
      "\u001b[1;31mNameError\u001b[0m: name 'samle_set' is not defined"
     ]
    }
   ],
   "source": [
    "sample_set={1,13.6,\"hi\",12,1,127,25,25,\"hello\",\"king\",\"ball\"}\n",
    "samle_set"
   ]
  },
  {
   "cell_type": "code",
   "execution_count": 2,
   "id": "27c52de3",
   "metadata": {},
   "outputs": [
    {
     "data": {
      "text/plain": [
       "{1, 12, 127, 13.6, 25, 'ball', 'hello', 'hi', 'king'}"
      ]
     },
     "execution_count": 2,
     "metadata": {},
     "output_type": "execute_result"
    }
   ],
   "source": [
    "sample_set\n"
   ]
  },
  {
   "cell_type": "code",
   "execution_count": 3,
   "id": "d15c76c8",
   "metadata": {},
   "outputs": [
    {
     "ename": "TypeError",
     "evalue": "'set' object is not subscriptable",
     "output_type": "error",
     "traceback": [
      "\u001b[1;31m---------------------------------------------------------------------------\u001b[0m",
      "\u001b[1;31mTypeError\u001b[0m                                 Traceback (most recent call last)",
      "Cell \u001b[1;32mIn[3], line 1\u001b[0m\n\u001b[1;32m----> 1\u001b[0m \u001b[43msample_set\u001b[49m\u001b[43m[\u001b[49m\u001b[38;5;241;43m0\u001b[39;49m\u001b[43m]\u001b[49m\n",
      "\u001b[1;31mTypeError\u001b[0m: 'set' object is not subscriptable"
     ]
    }
   ],
   "source": [
    "sample_set[0]"
   ]
  },
  {
   "cell_type": "code",
   "execution_count": 4,
   "id": "bc05e192",
   "metadata": {},
   "outputs": [
    {
     "ename": "TypeError",
     "evalue": "'set' object does not support item assignment",
     "output_type": "error",
     "traceback": [
      "\u001b[1;31m---------------------------------------------------------------------------\u001b[0m",
      "\u001b[1;31mTypeError\u001b[0m                                 Traceback (most recent call last)",
      "Cell \u001b[1;32mIn[4], line 1\u001b[0m\n\u001b[1;32m----> 1\u001b[0m \u001b[43msample_set\u001b[49m\u001b[43m[\u001b[49m\u001b[38;5;241;43m0\u001b[39;49m\u001b[43m]\u001b[49m\u001b[38;5;241m=\u001b[39m\u001b[38;5;124m\"\u001b[39m\u001b[38;5;124mhello\u001b[39m\u001b[38;5;124m\"\u001b[39m\n",
      "\u001b[1;31mTypeError\u001b[0m: 'set' object does not support item assignment"
     ]
    }
   ],
   "source": [
    "sample_set[0]=\"hello\""
   ]
  },
  {
   "cell_type": "code",
   "execution_count": 5,
   "id": "bc9deb17",
   "metadata": {},
   "outputs": [],
   "source": [
    "sample_set.add(1000)"
   ]
  },
  {
   "cell_type": "code",
   "execution_count": 6,
   "id": "a5cb4d89",
   "metadata": {},
   "outputs": [
    {
     "data": {
      "text/plain": [
       "{1, 1000, 12, 127, 13.6, 25, 'ball', 'hello', 'hi', 'king'}"
      ]
     },
     "execution_count": 6,
     "metadata": {},
     "output_type": "execute_result"
    }
   ],
   "source": [
    "sample_set"
   ]
  },
  {
   "cell_type": "code",
   "execution_count": 7,
   "id": "4e5f89bb",
   "metadata": {},
   "outputs": [],
   "source": [
    "sample_set.remove(12)"
   ]
  },
  {
   "cell_type": "code",
   "execution_count": 8,
   "id": "dc705f97",
   "metadata": {},
   "outputs": [
    {
     "data": {
      "text/plain": [
       "{1, 1000, 127, 13.6, 25, 'ball', 'hello', 'hi', 'king'}"
      ]
     },
     "execution_count": 8,
     "metadata": {},
     "output_type": "execute_result"
    }
   ],
   "source": [
    "sample_set"
   ]
  },
  {
   "cell_type": "code",
   "execution_count": 9,
   "id": "cadb06b5",
   "metadata": {},
   "outputs": [
    {
     "ename": "TypeError",
     "evalue": "'set' object is not callable",
     "output_type": "error",
     "traceback": [
      "\u001b[1;31m---------------------------------------------------------------------------\u001b[0m",
      "\u001b[1;31mTypeError\u001b[0m                                 Traceback (most recent call last)",
      "Cell \u001b[1;32mIn[9], line 1\u001b[0m\n\u001b[1;32m----> 1\u001b[0m \u001b[43msample_set\u001b[49m\u001b[43m(\u001b[49m\u001b[38;5;241;43m1234\u001b[39;49m\u001b[43m)\u001b[49m\n",
      "\u001b[1;31mTypeError\u001b[0m: 'set' object is not callable"
     ]
    }
   ],
   "source": [
    "sample_set(1234)"
   ]
  },
  {
   "cell_type": "code",
   "execution_count": 10,
   "id": "d35298f8",
   "metadata": {},
   "outputs": [],
   "source": [
    "# set is muttable as we can add and remove the element\n",
    "# we can not directly intialize the element by their index in the set"
   ]
  },
  {
   "cell_type": "code",
   "execution_count": 11,
   "id": "acae7ab8",
   "metadata": {},
   "outputs": [],
   "source": [
    "## ---------------------------Dictonary--------------------------------------------------"
   ]
  },
  {
   "cell_type": "code",
   "execution_count": 12,
   "id": "7598bf34",
   "metadata": {},
   "outputs": [],
   "source": [
    "#dictonary appear like key value data structure"
   ]
  },
  {
   "cell_type": "code",
   "execution_count": 13,
   "id": "0c5f603d",
   "metadata": {},
   "outputs": [
    {
     "data": {
      "text/plain": [
       "{1: 'apple', 2: 'every', 3: 'data', 6: '35.4', 7: 35.4}"
      ]
     },
     "execution_count": 13,
     "metadata": {},
     "output_type": "execute_result"
    }
   ],
   "source": [
    "sample_dict={1:\"apple\",2:35.4,3:\"data\",2:\"every\",6:\"35.4\",7:35.4}\n",
    "sample_dict"
   ]
  },
  {
   "cell_type": "code",
   "execution_count": 14,
   "id": "5e500b34",
   "metadata": {},
   "outputs": [],
   "source": [
    "# value get modified if the same key is change to new value"
   ]
  },
  {
   "cell_type": "code",
   "execution_count": 15,
   "id": "f2758831",
   "metadata": {},
   "outputs": [
    {
     "data": {
      "text/plain": [
       "'every'"
      ]
     },
     "execution_count": 15,
     "metadata": {},
     "output_type": "execute_result"
    }
   ],
   "source": [
    "sample_dict[2]"
   ]
  },
  {
   "cell_type": "code",
   "execution_count": 16,
   "id": "f7a4e997",
   "metadata": {},
   "outputs": [
    {
     "data": {
      "text/plain": [
       "{1: 'apple', 2: 'every', 3: 'data', 6: '35.4', 7: 100}"
      ]
     },
     "execution_count": 16,
     "metadata": {},
     "output_type": "execute_result"
    }
   ],
   "source": [
    "sample_dict[7]=100\n",
    "sample_dict"
   ]
  },
  {
   "cell_type": "code",
   "execution_count": 17,
   "id": "87fdb53c",
   "metadata": {},
   "outputs": [
    {
     "ename": "KeyError",
     "evalue": "'apple'",
     "output_type": "error",
     "traceback": [
      "\u001b[1;31m---------------------------------------------------------------------------\u001b[0m",
      "\u001b[1;31mKeyError\u001b[0m                                  Traceback (most recent call last)",
      "Cell \u001b[1;32mIn[17], line 1\u001b[0m\n\u001b[1;32m----> 1\u001b[0m \u001b[43msample_dict\u001b[49m\u001b[43m[\u001b[49m\u001b[38;5;124;43m\"\u001b[39;49m\u001b[38;5;124;43mapple\u001b[39;49m\u001b[38;5;124;43m\"\u001b[39;49m\u001b[43m]\u001b[49m\n",
      "\u001b[1;31mKeyError\u001b[0m: 'apple'"
     ]
    }
   ],
   "source": [
    "sample_dict[\"apple\"]"
   ]
  },
  {
   "cell_type": "code",
   "execution_count": 18,
   "id": "ee6b6880",
   "metadata": {},
   "outputs": [],
   "source": [
    "sample_dict[8]=21"
   ]
  },
  {
   "cell_type": "code",
   "execution_count": 19,
   "id": "e6136929",
   "metadata": {},
   "outputs": [
    {
     "data": {
      "text/plain": [
       "{1: 'apple', 2: 'every', 3: 'data', 6: '35.4', 7: 100, 8: 21}"
      ]
     },
     "execution_count": 19,
     "metadata": {},
     "output_type": "execute_result"
    }
   ],
   "source": [
    "sample_dict"
   ]
  },
  {
   "cell_type": "code",
   "execution_count": 20,
   "id": "7529339f",
   "metadata": {},
   "outputs": [],
   "source": [
    "## How to add key value pair to dictionary"
   ]
  },
  {
   "cell_type": "code",
   "execution_count": 21,
   "id": "ebb46250",
   "metadata": {},
   "outputs": [
    {
     "data": {
      "text/plain": [
       "{1: 'apple', 2: 'every', 3: 'data', 6: '35.4', 7: 100, 8: 21, 11: 'hello'}"
      ]
     },
     "execution_count": 21,
     "metadata": {},
     "output_type": "execute_result"
    }
   ],
   "source": [
    "sample_dict[11]=\"hello\"\n",
    "sample_dict"
   ]
  },
  {
   "cell_type": "code",
   "execution_count": null,
   "id": "5ea54ecd",
   "metadata": {},
   "outputs": [],
   "source": []
  }
 ],
 "metadata": {
  "kernelspec": {
   "display_name": "Python 3 (ipykernel)",
   "language": "python",
   "name": "python3"
  },
  "language_info": {
   "codemirror_mode": {
    "name": "ipython",
    "version": 3
   },
   "file_extension": ".py",
   "mimetype": "text/x-python",
   "name": "python",
   "nbconvert_exporter": "python",
   "pygments_lexer": "ipython3",
   "version": "3.11.1"
  }
 },
 "nbformat": 4,
 "nbformat_minor": 5
}
